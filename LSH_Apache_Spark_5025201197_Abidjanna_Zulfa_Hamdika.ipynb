{
  "nbformat": 4,
  "nbformat_minor": 0,
  "metadata": {
    "colab": {
      "provenance": [],
      "toc_visible": true,
      "include_colab_link": true
    },
    "kernelspec": {
      "name": "python3",
      "display_name": "Python 3"
    },
    "language_info": {
      "name": "python"
    }
  },
  "cells": [
    {
      "cell_type": "markdown",
      "metadata": {
        "id": "view-in-github",
        "colab_type": "text"
      },
      "source": [
        "<a href=\"https://colab.research.google.com/github/hufahamdika/BigData_LSH_using_ApacheSpark/blob/main/LSH_Apache_Spark_5025201197_Abidjanna_Zulfa_Hamdika.ipynb\" target=\"_parent\"><img src=\"https://colab.research.google.com/assets/colab-badge.svg\" alt=\"Open In Colab\"/></a>"
      ]
    },
    {
      "cell_type": "markdown",
      "source": [
        "# Assignments 3\n",
        "- Abidjanna Zulfa Hamdika\n",
        "- 5025201197\n",
        "- Big Data A"
      ],
      "metadata": {
        "id": "hNbdg1_LFLeh"
      }
    },
    {
      "cell_type": "markdown",
      "source": [
        "## Source:\n",
        "1. https://www.uber.com/en-ID/blog/lsh/\n",
        "2. https://stackoverflow.com/questions/56816537/cant-find-kaggle-json-file-in-google-colab\n",
        "3. https://spark.apache.org/docs/latest/api/python/index.html\n",
        "4. https://spark.apache.org/docs/latest/ml-features.html#locality-sensitive-hashing"
      ],
      "metadata": {
        "id": "LZoLwwbbFZ9A"
      }
    },
    {
      "cell_type": "markdown",
      "source": [
        "# Initialization"
      ],
      "metadata": {
        "id": "yq47FAjaFvYm"
      }
    },
    {
      "cell_type": "markdown",
      "source": [
        "## Checking the Environment"
      ],
      "metadata": {
        "id": "CZVK9AkSFxIc"
      }
    },
    {
      "cell_type": "code",
      "execution_count": 1,
      "metadata": {
        "colab": {
          "base_uri": "https://localhost:8080/"
        },
        "id": "7ece9cSOFFlQ",
        "outputId": "95a55ae4-60f1-4cd7-dce7-d53b084837c7"
      },
      "outputs": [
        {
          "output_type": "stream",
          "name": "stdout",
          "text": [
            "openjdk 11.0.18 2023-01-17\n",
            "OpenJDK Runtime Environment (build 11.0.18+10-post-Ubuntu-0ubuntu120.04.1)\n",
            "OpenJDK 64-Bit Server VM (build 11.0.18+10-post-Ubuntu-0ubuntu120.04.1, mixed mode, sharing)\n",
            "Python 3.9.16\n"
          ]
        }
      ],
      "source": [
        "!java --version\n",
        "!python --version"
      ]
    },
    {
      "cell_type": "markdown",
      "source": [
        "## Installing Apache Spark (PySpark)"
      ],
      "metadata": {
        "id": "vW7EtjpchtnH"
      }
    },
    {
      "cell_type": "code",
      "source": [
        "## Installing Apache Spark (PySpark)\n",
        "\n",
        "!pip install pyspark"
      ],
      "metadata": {
        "colab": {
          "base_uri": "https://localhost:8080/"
        },
        "id": "H8J1WVeHhuz-",
        "outputId": "3d673f48-b1c4-4381-c95d-d22a7daccd90"
      },
      "execution_count": 2,
      "outputs": [
        {
          "output_type": "stream",
          "name": "stdout",
          "text": [
            "Looking in indexes: https://pypi.org/simple, https://us-python.pkg.dev/colab-wheels/public/simple/\n",
            "Collecting pyspark\n",
            "  Downloading pyspark-3.3.2.tar.gz (281.4 MB)\n",
            "\u001b[2K     \u001b[90m━━━━━━━━━━━━━━━━━━━━━━━━━━━━━━━━━━━━━━━\u001b[0m \u001b[32m281.4/281.4 MB\u001b[0m \u001b[31m4.7 MB/s\u001b[0m eta \u001b[36m0:00:00\u001b[0m\n",
            "\u001b[?25h  Preparing metadata (setup.py) ... \u001b[?25l\u001b[?25hdone\n",
            "Collecting py4j==0.10.9.5\n",
            "  Downloading py4j-0.10.9.5-py2.py3-none-any.whl (199 kB)\n",
            "\u001b[2K     \u001b[90m━━━━━━━━━━━━━━━━━━━━━━━━━━━━━━━━━━━━━━\u001b[0m \u001b[32m199.7/199.7 KB\u001b[0m \u001b[31m22.5 MB/s\u001b[0m eta \u001b[36m0:00:00\u001b[0m\n",
            "\u001b[?25hBuilding wheels for collected packages: pyspark\n",
            "  Building wheel for pyspark (setup.py) ... \u001b[?25l\u001b[?25hdone\n",
            "  Created wheel for pyspark: filename=pyspark-3.3.2-py2.py3-none-any.whl size=281824025 sha256=b96b0b2fcb4f098fbfda06b704b66fa8c62d094b60f12542e2398bd7728be23a\n",
            "  Stored in directory: /root/.cache/pip/wheels/6c/e3/9b/0525ce8a69478916513509d43693511463c6468db0de237c86\n",
            "Successfully built pyspark\n",
            "Installing collected packages: py4j, pyspark\n",
            "Successfully installed py4j-0.10.9.5 pyspark-3.3.2\n"
          ]
        }
      ]
    },
    {
      "cell_type": "markdown",
      "source": [
        "## Initialize Apache Spark context"
      ],
      "metadata": {
        "id": "lbamGvWtiYOT"
      }
    },
    {
      "cell_type": "code",
      "source": [
        "# Import Apache Spark SQL\n",
        "from pyspark.sql import SparkSession\n",
        "\n",
        "# Create Spark Session/Context\n",
        "# We are using local machine with all the CPU cores [*]\n",
        "spark = SparkSession.builder \\\n",
        "    .master(\"local[*]\") \\\n",
        "    .appName(\"Hello Pyspark\") \\\n",
        "    .config(\"spark.some.config.option\", \"some-value\") \\\n",
        "    .getOrCreate()"
      ],
      "metadata": {
        "id": "E-2Xe9CaiX7K"
      },
      "execution_count": 3,
      "outputs": []
    },
    {
      "cell_type": "code",
      "source": [
        "# Check spark session\n",
        "print(spark)"
      ],
      "metadata": {
        "colab": {
          "base_uri": "https://localhost:8080/"
        },
        "id": "WQ_DpqwNiclC",
        "outputId": "8e673118-0a45-41ec-ad83-90185cdb2a64"
      },
      "execution_count": 4,
      "outputs": [
        {
          "output_type": "stream",
          "name": "stdout",
          "text": [
            "<pyspark.sql.session.SparkSession object at 0x7f786d5a52e0>\n"
          ]
        }
      ]
    },
    {
      "cell_type": "markdown",
      "source": [
        "# Data Mining Task"
      ],
      "metadata": {
        "id": "SelrGM4DOGuI"
      }
    },
    {
      "cell_type": "markdown",
      "source": [
        "The LSH task always consists of three steps:\n",
        "\n",
        "1. Converting original data into vectors\n",
        "2. Calculate the hash using MinHash algorithm\n",
        "3. Searching the similar pairs using k-Nearest Neighbor, or join algorithm."
      ],
      "metadata": {
        "id": "hwc98F0BOHsN"
      }
    },
    {
      "cell_type": "markdown",
      "source": [
        "## Downloading the dataset"
      ],
      "metadata": {
        "id": "BKR5l4TPOJsc"
      }
    },
    {
      "cell_type": "code",
      "source": [
        "!pip install kaggle"
      ],
      "metadata": {
        "colab": {
          "base_uri": "https://localhost:8080/"
        },
        "id": "Li3dBYaTOLEq",
        "outputId": "9e103be1-a6e5-42cc-cb1a-cb878d415380"
      },
      "execution_count": 5,
      "outputs": [
        {
          "output_type": "stream",
          "name": "stdout",
          "text": [
            "Looking in indexes: https://pypi.org/simple, https://us-python.pkg.dev/colab-wheels/public/simple/\n",
            "Requirement already satisfied: kaggle in /usr/local/lib/python3.9/dist-packages (1.5.13)\n",
            "Requirement already satisfied: requests in /usr/local/lib/python3.9/dist-packages (from kaggle) (2.25.1)\n",
            "Requirement already satisfied: six>=1.10 in /usr/local/lib/python3.9/dist-packages (from kaggle) (1.15.0)\n",
            "Requirement already satisfied: tqdm in /usr/local/lib/python3.9/dist-packages (from kaggle) (4.65.0)\n",
            "Requirement already satisfied: certifi in /usr/local/lib/python3.9/dist-packages (from kaggle) (2022.12.7)\n",
            "Requirement already satisfied: python-slugify in /usr/local/lib/python3.9/dist-packages (from kaggle) (8.0.1)\n",
            "Requirement already satisfied: urllib3 in /usr/local/lib/python3.9/dist-packages (from kaggle) (1.26.14)\n",
            "Requirement already satisfied: python-dateutil in /usr/local/lib/python3.9/dist-packages (from kaggle) (2.8.2)\n",
            "Requirement already satisfied: text-unidecode>=1.3 in /usr/local/lib/python3.9/dist-packages (from python-slugify->kaggle) (1.3)\n",
            "Requirement already satisfied: idna<3,>=2.5 in /usr/local/lib/python3.9/dist-packages (from requests->kaggle) (2.10)\n",
            "Requirement already satisfied: chardet<5,>=3.0.2 in /usr/local/lib/python3.9/dist-packages (from requests->kaggle) (4.0.0)\n"
          ]
        }
      ]
    },
    {
      "cell_type": "code",
      "source": [
        "!mkdir ~/.kaggle/\n",
        "!touch ~/.kaggle/kaggle.json"
      ],
      "metadata": {
        "id": "y6LcCU9CaTe6"
      },
      "execution_count": 7,
      "outputs": []
    },
    {
      "cell_type": "code",
      "source": [
        "# PLEASE USE YOUR OWN KEY\n",
        "# Download your own key according to this instruction https://github.com/Kaggle/kaggle-api#api-credentials\n",
        "\n",
        "import json\n",
        "api_token = {\"username\":\"marvesco\",\"key\":\"5969b2bff995464adc703b3d908f0169\"}\n",
        "\n",
        "with open('/root/.kaggle/kaggle.json', 'w') as file:\n",
        "    json.dump(api_token, file)\n",
        "\n",
        "!chmod 600 ~/.kaggle/kaggle.json\n"
      ],
      "metadata": {
        "id": "El-aEUWxQjo6"
      },
      "execution_count": 8,
      "outputs": []
    },
    {
      "cell_type": "code",
      "source": [
        "# Download from https://www.kaggle.com/datasets/urbanbricks/wikipedia-promotional-articles\n",
        "\n",
        "!kaggle datasets download -d urbanbricks/wikipedia-promotional-articles"
      ],
      "metadata": {
        "colab": {
          "base_uri": "https://localhost:8080/"
        },
        "id": "8bPIAgE9RG7P",
        "outputId": "b787d110-366b-4c61-a1a4-8b1d07c33ad7"
      },
      "execution_count": 10,
      "outputs": [
        {
          "output_type": "stream",
          "name": "stdout",
          "text": [
            "Downloading wikipedia-promotional-articles.zip to /content\n",
            " 99% 200M/201M [00:06<00:00, 34.9MB/s]\n",
            "100% 201M/201M [00:06<00:00, 34.2MB/s]\n"
          ]
        }
      ]
    },
    {
      "cell_type": "markdown",
      "source": [
        "## Extract Dataset"
      ],
      "metadata": {
        "id": "iOd4g7yoTXDB"
      }
    },
    {
      "cell_type": "code",
      "source": [
        "!unzip wikipedia-promotional-articles.zip"
      ],
      "metadata": {
        "colab": {
          "base_uri": "https://localhost:8080/"
        },
        "id": "mOE-IJqpTbBs",
        "outputId": "728f437c-e3b7-45cb-8699-78f3bd7a681b"
      },
      "execution_count": 11,
      "outputs": [
        {
          "output_type": "stream",
          "name": "stdout",
          "text": [
            "Archive:  wikipedia-promotional-articles.zip\n",
            "  inflating: good.csv                \n",
            "  inflating: promotional.csv         \n"
          ]
        }
      ]
    },
    {
      "cell_type": "markdown",
      "source": [
        "## check files in current directory"
      ],
      "metadata": {
        "id": "miucMnDuTgdM"
      }
    },
    {
      "cell_type": "code",
      "source": [
        "!ls -la"
      ],
      "metadata": {
        "colab": {
          "base_uri": "https://localhost:8080/"
        },
        "id": "cPCDKY4_TiB0",
        "outputId": "8bed85d3-2955-4a5a-a30e-c78337b49f23"
      },
      "execution_count": 12,
      "outputs": [
        {
          "output_type": "stream",
          "name": "stdout",
          "text": [
            "total 783140\n",
            "drwxr-xr-x 1 root root      4096 Mar  9 17:27 .\n",
            "drwxr-xr-x 1 root root      4096 Mar  9 17:24 ..\n",
            "drwxr-xr-x 4 root root      4096 Mar  7 18:12 .config\n",
            "-rw-r--r-- 1 root root 475685227 Oct 27  2019 good.csv\n",
            "-rw-r--r-- 1 root root 115360355 Oct 27  2019 promotional.csv\n",
            "drwxr-xr-x 1 root root      4096 Mar  7 18:14 sample_data\n",
            "-rw-r--r-- 1 root root 210863294 Mar  9 17:27 wikipedia-promotional-articles.zip\n"
          ]
        }
      ]
    },
    {
      "cell_type": "markdown",
      "source": [
        "## Read the dataset"
      ],
      "metadata": {
        "id": "q0RSGu6_TrZC"
      }
    },
    {
      "cell_type": "code",
      "source": [
        "# Read CSV (promotional.csv)\n",
        "df = spark.read.option(\"header\", True).csv(\"/content/promotional.csv\")\n",
        "df.printSchema()"
      ],
      "metadata": {
        "colab": {
          "base_uri": "https://localhost:8080/"
        },
        "id": "Q5OeENKeTsHp",
        "outputId": "a9c3ae95-7779-429c-b6fb-6e80b573da43"
      },
      "execution_count": 13,
      "outputs": [
        {
          "output_type": "stream",
          "name": "stdout",
          "text": [
            "root\n",
            " |-- text: string (nullable = true)\n",
            " |-- advert: string (nullable = true)\n",
            " |-- coi: string (nullable = true)\n",
            " |-- fanpov: string (nullable = true)\n",
            " |-- pr: string (nullable = true)\n",
            " |-- resume: string (nullable = true)\n",
            " |-- url: string (nullable = true)\n",
            "\n"
          ]
        }
      ]
    },
    {
      "cell_type": "code",
      "source": [
        "# Add an ID for the dataset\n",
        "from pyspark.sql.functions import monotonically_increasing_id\n",
        "\n",
        "newsDF = df.withColumn(\"id\", monotonically_increasing_id())\n",
        "newsDF.show()"
      ],
      "metadata": {
        "colab": {
          "base_uri": "https://localhost:8080/"
        },
        "id": "Rg80gHKRUXbe",
        "outputId": "b035f2af-f9f1-44f4-9d8a-0d7ca9d0cce2"
      },
      "execution_count": 14,
      "outputs": [
        {
          "output_type": "stream",
          "name": "stdout",
          "text": [
            "+--------------------+------+---+------+---+------+--------------------+---+\n",
            "|                text|advert|coi|fanpov| pr|resume|                 url| id|\n",
            "+--------------------+------+---+------+---+------+--------------------+---+\n",
            "|1 Litre no Namida...|     0|  0|     1|  0|     0|https://en.wikipe...|  0|\n",
            "|1DayLater was fre...|     1|  1|     0|  0|     0|https://en.wikipe...|  1|\n",
            "|1E is a privately...|     1|  0|     0|  0|     0|https://en.wikipe...|  2|\n",
            "|1Malaysia pronoun...|     1|  0|     0|  0|     0|https://en.wikipe...|  3|\n",
            "|The Jerusalem Bie...|     1|  0|     0|  0|     0|https://en.wikipe...|  4|\n",
            "|1st Round Enterpr...|     0|  0|     0|  1|     0|https://en.wikipe...|  5|\n",
            "|2ergo is a provid...|     1|  0|     0|  0|     0|https://en.wikipe...|  6|\n",
            "|2N Telekomunikace...|     1|  0|     0|  0|     0|https://en.wikipe...|  7|\n",
            "|A 3D printing mar...|     1|  0|     0|  0|     0|https://en.wikipe...|  8|\n",
            "|3DR is an America...|     1|  1|     0|  0|     0|https://en.wikipe...|  9|\n",
            "|3D Systems, headq...|     1|  0|     0|  0|     0|https://en.wikipe...| 10|\n",
            "|3Delight, is 3D c...|     0|  0|     0|  0|     1|https://en.wikipe...| 11|\n",
            "|3DVIA is a brand ...|     1|  1|     0|  0|     0|https://en.wikipe...| 12|\n",
            "|3i Infotech Ltd e...|     1|  0|     0|  0|     0|https://en.wikipe...| 13|\n",
            "|3logy is the Pino...|     1|  0|     0|  0|     0|https://en.wikipe...| 14|\n",
            "|The 4 Hour Chef T...|     1|  0|     0|  1|     0|https://en.wikipe...| 15|\n",
            "|4Children was a c...|     1|  1|     0|  0|     0|https://en.wikipe...| 16|\n",
            "|If this article d...|     1|  0|     0|  0|     0|https://en.wikipe...| 17|\n",
            "|4G Americas is a ...|     0|  0|     0|  1|     0|https://en.wikipe...| 18|\n",
            "|4MMM identified o...|     1|  0|     0|  0|     0|https://en.wikipe...| 19|\n",
            "+--------------------+------+---+------+---+------+--------------------+---+\n",
            "only showing top 20 rows\n",
            "\n"
          ]
        }
      ]
    },
    {
      "cell_type": "code",
      "source": [
        "# Get the totals row\n",
        "newsDF.count()"
      ],
      "metadata": {
        "colab": {
          "base_uri": "https://localhost:8080/"
        },
        "id": "veDHR-TtUhqD",
        "outputId": "e201d697-8ae1-4d36-d455-48086e614954"
      },
      "execution_count": 15,
      "outputs": [
        {
          "output_type": "execute_result",
          "data": {
            "text/plain": [
              "23837"
            ]
          },
          "metadata": {},
          "execution_count": 15
        }
      ]
    },
    {
      "cell_type": "markdown",
      "source": [
        "## 1. Prepare the tokenizer\n",
        "We transform the input into tokenized words"
      ],
      "metadata": {
        "id": "Qga7TndeUmcv"
      }
    },
    {
      "cell_type": "code",
      "source": [
        "# Prepare the tokenizer\n",
        "from pyspark.ml.feature import Tokenizer\n",
        "tokenizer = Tokenizer(inputCol=\"text\", outputCol=\"words\")\n",
        "\n",
        "# tokenize text into dataframe\n",
        "wordsDF = tokenizer.transform(newsDF)\n",
        "wordsDF.show()"
      ],
      "metadata": {
        "colab": {
          "base_uri": "https://localhost:8080/"
        },
        "id": "rKfN93bGU1ze",
        "outputId": "1e6d3800-6859-4cc6-eb74-a8b5de3559f5"
      },
      "execution_count": 16,
      "outputs": [
        {
          "output_type": "stream",
          "name": "stdout",
          "text": [
            "+--------------------+------+---+------+---+------+--------------------+---+--------------------+\n",
            "|                text|advert|coi|fanpov| pr|resume|                 url| id|               words|\n",
            "+--------------------+------+---+------+---+------+--------------------+---+--------------------+\n",
            "|1 Litre no Namida...|     0|  0|     1|  0|     0|https://en.wikipe...|  0|[1, litre, no, na...|\n",
            "|1DayLater was fre...|     1|  1|     0|  0|     0|https://en.wikipe...|  1|[1daylater, was, ...|\n",
            "|1E is a privately...|     1|  0|     0|  0|     0|https://en.wikipe...|  2|[1e, is, a, priva...|\n",
            "|1Malaysia pronoun...|     1|  0|     0|  0|     0|https://en.wikipe...|  3|[1malaysia, prono...|\n",
            "|The Jerusalem Bie...|     1|  0|     0|  0|     0|https://en.wikipe...|  4|[the, jerusalem, ...|\n",
            "|1st Round Enterpr...|     0|  0|     0|  1|     0|https://en.wikipe...|  5|[1st, round, ente...|\n",
            "|2ergo is a provid...|     1|  0|     0|  0|     0|https://en.wikipe...|  6|[2ergo, is, a, pr...|\n",
            "|2N Telekomunikace...|     1|  0|     0|  0|     0|https://en.wikipe...|  7|[2n, telekomunika...|\n",
            "|A 3D printing mar...|     1|  0|     0|  0|     0|https://en.wikipe...|  8|[a, 3d, printing,...|\n",
            "|3DR is an America...|     1|  1|     0|  0|     0|https://en.wikipe...|  9|[3dr, is, an, ame...|\n",
            "|3D Systems, headq...|     1|  0|     0|  0|     0|https://en.wikipe...| 10|[3d, systems,, he...|\n",
            "|3Delight, is 3D c...|     0|  0|     0|  0|     1|https://en.wikipe...| 11|[3delight,, is, 3...|\n",
            "|3DVIA is a brand ...|     1|  1|     0|  0|     0|https://en.wikipe...| 12|[3dvia, is, a, br...|\n",
            "|3i Infotech Ltd e...|     1|  0|     0|  0|     0|https://en.wikipe...| 13|[3i, infotech, lt...|\n",
            "|3logy is the Pino...|     1|  0|     0|  0|     0|https://en.wikipe...| 14|[3logy, is, the, ...|\n",
            "|The 4 Hour Chef T...|     1|  0|     0|  1|     0|https://en.wikipe...| 15|[the, 4, hour, ch...|\n",
            "|4Children was a c...|     1|  1|     0|  0|     0|https://en.wikipe...| 16|[4children, was, ...|\n",
            "|If this article d...|     1|  0|     0|  0|     0|https://en.wikipe...| 17|[if, this, articl...|\n",
            "|4G Americas is a ...|     0|  0|     0|  1|     0|https://en.wikipe...| 18|[4g, americas, is...|\n",
            "|4MMM identified o...|     1|  0|     0|  0|     0|https://en.wikipe...| 19|[4mmm, identified...|\n",
            "+--------------------+------+---+------+---+------+--------------------+---+--------------------+\n",
            "only showing top 20 rows\n",
            "\n"
          ]
        }
      ]
    },
    {
      "cell_type": "code",
      "source": [
        "# Vectorize the dataset\n",
        "from pyspark.ml.feature import CountVectorizer\n",
        "\n",
        "# create a model and fit it into the tokenized data\n",
        "vocabSize=1000\n",
        "cvModel = CountVectorizer(inputCol=\"words\", outputCol=\"features\", vocabSize=vocabSize, minDF=10).fit(wordsDF)\n",
        "\n",
        "# transform data into vector\n",
        "vectorizedDF = cvModel.transform(wordsDF)\n",
        "vectorizedDF.show()"
      ],
      "metadata": {
        "colab": {
          "base_uri": "https://localhost:8080/"
        },
        "id": "en2AZSpPU5I7",
        "outputId": "375d65d2-7de4-41e2-c156-88ba2880d71d"
      },
      "execution_count": 17,
      "outputs": [
        {
          "output_type": "stream",
          "name": "stdout",
          "text": [
            "+--------------------+------+---+------+---+------+--------------------+---+--------------------+--------------------+\n",
            "|                text|advert|coi|fanpov| pr|resume|                 url| id|               words|            features|\n",
            "+--------------------+------+---+------+---+------+--------------------+---+--------------------+--------------------+\n",
            "|1 Litre no Namida...|     0|  0|     1|  0|     0|https://en.wikipe...|  0|[1, litre, no, na...|(1000,[0,1,2,3,4,...|\n",
            "|1DayLater was fre...|     1|  1|     0|  0|     0|https://en.wikipe...|  1|[1daylater, was, ...|(1000,[0,1,2,3,4,...|\n",
            "|1E is a privately...|     1|  0|     0|  0|     0|https://en.wikipe...|  2|[1e, is, a, priva...|(1000,[0,1,2,3,4,...|\n",
            "|1Malaysia pronoun...|     1|  0|     0|  0|     0|https://en.wikipe...|  3|[1malaysia, prono...|(1000,[0,1,2,3,4,...|\n",
            "|The Jerusalem Bie...|     1|  0|     0|  0|     0|https://en.wikipe...|  4|[the, jerusalem, ...|(1000,[0,1,2,3,4,...|\n",
            "|1st Round Enterpr...|     0|  0|     0|  1|     0|https://en.wikipe...|  5|[1st, round, ente...|(1000,[0,1,2,3,4,...|\n",
            "|2ergo is a provid...|     1|  0|     0|  0|     0|https://en.wikipe...|  6|[2ergo, is, a, pr...|(1000,[0,1,2,3,4,...|\n",
            "|2N Telekomunikace...|     1|  0|     0|  0|     0|https://en.wikipe...|  7|[2n, telekomunika...|(1000,[0,1,2,3,4,...|\n",
            "|A 3D printing mar...|     1|  0|     0|  0|     0|https://en.wikipe...|  8|[a, 3d, printing,...|(1000,[0,1,2,3,4,...|\n",
            "|3DR is an America...|     1|  1|     0|  0|     0|https://en.wikipe...|  9|[3dr, is, an, ame...|(1000,[0,1,2,3,4,...|\n",
            "|3D Systems, headq...|     1|  0|     0|  0|     0|https://en.wikipe...| 10|[3d, systems,, he...|(1000,[0,1,2,3,4,...|\n",
            "|3Delight, is 3D c...|     0|  0|     0|  0|     1|https://en.wikipe...| 11|[3delight,, is, 3...|(1000,[0,1,2,3,4,...|\n",
            "|3DVIA is a brand ...|     1|  1|     0|  0|     0|https://en.wikipe...| 12|[3dvia, is, a, br...|(1000,[0,1,2,3,4,...|\n",
            "|3i Infotech Ltd e...|     1|  0|     0|  0|     0|https://en.wikipe...| 13|[3i, infotech, lt...|(1000,[0,1,2,3,4,...|\n",
            "|3logy is the Pino...|     1|  0|     0|  0|     0|https://en.wikipe...| 14|[3logy, is, the, ...|(1000,[0,1,2,3,4,...|\n",
            "|The 4 Hour Chef T...|     1|  0|     0|  1|     0|https://en.wikipe...| 15|[the, 4, hour, ch...|(1000,[0,1,2,3,4,...|\n",
            "|4Children was a c...|     1|  1|     0|  0|     0|https://en.wikipe...| 16|[4children, was, ...|(1000,[0,1,2,3,4,...|\n",
            "|If this article d...|     1|  0|     0|  0|     0|https://en.wikipe...| 17|[if, this, articl...|(1000,[0,1,2,3,4,...|\n",
            "|4G Americas is a ...|     0|  0|     0|  1|     0|https://en.wikipe...| 18|[4g, americas, is...|(1000,[0,1,2,3,4,...|\n",
            "|4MMM identified o...|     1|  0|     0|  0|     0|https://en.wikipe...| 19|[4mmm, identified...|(1000,[0,1,2,3,4,...|\n",
            "+--------------------+------+---+------+---+------+--------------------+---+--------------------+--------------------+\n",
            "only showing top 20 rows\n",
            "\n"
          ]
        }
      ]
    },
    {
      "cell_type": "markdown",
      "source": [
        "## 2. Fit/train an LSH Model"
      ],
      "metadata": {
        "id": "p5YRn-GaU-Zi"
      }
    },
    {
      "cell_type": "code",
      "source": [
        "from pyspark.ml.feature import MinHashLSH\n",
        "\n",
        "# Define the MinHashLSH model\n",
        "mh = MinHashLSH(inputCol=\"features\", outputCol=\"hashValues\", numHashTables=3)\n",
        "\n",
        "# Train the model and apply model\n",
        "LSHmodel = mh.fit(vectorizedDF)\n",
        "LSHmodel.transform(vectorizedDF).show()\n"
      ],
      "metadata": {
        "colab": {
          "base_uri": "https://localhost:8080/"
        },
        "id": "1-0MX0iUVADQ",
        "outputId": "380d2baa-594e-47c8-a077-89f8b54541bb"
      },
      "execution_count": 18,
      "outputs": [
        {
          "output_type": "stream",
          "name": "stdout",
          "text": [
            "+--------------------+------+---+------+---+------+--------------------+---+--------------------+--------------------+--------------------+\n",
            "|                text|advert|coi|fanpov| pr|resume|                 url| id|               words|            features|          hashValues|\n",
            "+--------------------+------+---+------+---+------+--------------------+---+--------------------+--------------------+--------------------+\n",
            "|1 Litre no Namida...|     0|  0|     1|  0|     0|https://en.wikipe...|  0|[1, litre, no, na...|(1000,[0,1,2,3,4,...|[[7459245.0], [96...|\n",
            "|1DayLater was fre...|     1|  1|     0|  0|     0|https://en.wikipe...|  1|[1daylater, was, ...|(1000,[0,1,2,3,4,...|[[5.4944481E7], [...|\n",
            "|1E is a privately...|     1|  0|     0|  0|     0|https://en.wikipe...|  2|[1e, is, a, priva...|(1000,[0,1,2,3,4,...|[[1.0033226E7], [...|\n",
            "|1Malaysia pronoun...|     1|  0|     0|  0|     0|https://en.wikipe...|  3|[1malaysia, prono...|(1000,[0,1,2,3,4,...|[[4500738.0], [96...|\n",
            "|The Jerusalem Bie...|     1|  0|     0|  0|     0|https://en.wikipe...|  4|[the, jerusalem, ...|(1000,[0,1,2,3,4,...|[[7074719.0], [5....|\n",
            "|1st Round Enterpr...|     0|  0|     0|  1|     0|https://en.wikipe...|  5|[1st, round, ente...|(1000,[0,1,2,3,4,...|[[4500738.0], [4....|\n",
            "|2ergo is a provid...|     1|  0|     0|  0|     0|https://en.wikipe...|  6|[2ergo, is, a, pr...|(1000,[0,1,2,3,4,...|[[4500738.0], [1....|\n",
            "|2N Telekomunikace...|     1|  0|     0|  0|     0|https://en.wikipe...|  7|[2n, telekomunika...|(1000,[0,1,2,3,4,...|[[2.5861638E7], [...|\n",
            "|A 3D printing mar...|     1|  0|     0|  0|     0|https://en.wikipe...|  8|[a, 3d, printing,...|(1000,[0,1,2,3,4,...|[[4500738.0], [27...|\n",
            "|3DR is an America...|     1|  1|     0|  0|     0|https://en.wikipe...|  9|[3dr, is, an, ame...|(1000,[0,1,2,3,4,...|[[7459245.0], [1....|\n",
            "|3D Systems, headq...|     1|  0|     0|  0|     0|https://en.wikipe...| 10|[3d, systems,, he...|(1000,[0,1,2,3,4,...|[[7459245.0], [1....|\n",
            "|3Delight, is 3D c...|     0|  0|     0|  0|     1|https://en.wikipe...| 11|[3delight,, is, 3...|(1000,[0,1,2,3,4,...|[[2.5861638E7], [...|\n",
            "|3DVIA is a brand ...|     1|  1|     0|  0|     0|https://en.wikipe...| 12|[3dvia, is, a, br...|(1000,[0,1,2,3,4,...|[[4.169005E7], [2...|\n",
            "|3i Infotech Ltd e...|     1|  0|     0|  0|     0|https://en.wikipe...| 13|[3i, infotech, lt...|(1000,[0,1,2,3,4,...|[[1926757.0], [1....|\n",
            "|3logy is the Pino...|     1|  0|     0|  0|     0|https://en.wikipe...| 14|[3logy, is, the, ...|(1000,[0,1,2,3,4,...|[[7459245.0], [5....|\n",
            "|The 4 Hour Chef T...|     1|  0|     0|  1|     0|https://en.wikipe...| 15|[the, 4, hour, ch...|(1000,[0,1,2,3,4,...|[[4.4648557E7], [...|\n",
            "|4Children was a c...|     1|  1|     0|  0|     0|https://en.wikipe...| 16|[4children, was, ...|(1000,[0,1,2,3,4,...|[[2.032915E7], [3...|\n",
            "|If this article d...|     1|  0|     0|  0|     0|https://en.wikipe...| 17|[if, this, articl...|(1000,[0,1,2,3,4,...|[[2.032915E7], [2...|\n",
            "|4G Americas is a ...|     0|  0|     0|  1|     0|https://en.wikipe...| 18|[4g, americas, is...|(1000,[0,1,2,3,4,...|[[2.0713676E7], [...|\n",
            "|4MMM identified o...|     1|  0|     0|  0|     0|https://en.wikipe...| 19|[4mmm, identified...|(1000,[0,1,2,3,4,...|[[7074719.0], [48...|\n",
            "+--------------------+------+---+------+---+------+--------------------+---+--------------------+--------------------+--------------------+\n",
            "only showing top 20 rows\n",
            "\n"
          ]
        }
      ]
    },
    {
      "cell_type": "markdown",
      "source": [
        "## 3. Searching the similar pairs/items for a key \"united\" \"states\""
      ],
      "metadata": {
        "id": "A8HSOJoSVhIL"
      }
    },
    {
      "cell_type": "code",
      "source": [
        "# Testing searching for \"united\" \"states\"\n",
        "print(cvModel.vocabulary.index(\"united\"))\n",
        "print(cvModel.vocabulary.index(\"states\"))"
      ],
      "metadata": {
        "colab": {
          "base_uri": "https://localhost:8080/"
        },
        "id": "6cdM9T6jVkHk",
        "outputId": "be239075-3d5c-469e-adad-e2a3189d66c4"
      },
      "execution_count": 19,
      "outputs": [
        {
          "output_type": "stream",
          "name": "stdout",
          "text": [
            "92\n",
            "198\n"
          ]
        }
      ]
    },
    {
      "cell_type": "code",
      "source": [
        "# Convert the input with 2 words into a 1000-size vector\n",
        "# If the words exist in the index, we will give the value 1.0, otherwise 0.0\n",
        "# Final result: key = [0, 0, ..., 1.0, ..., 1.0, 0, ..., 0]\n",
        "from pyspark.ml.linalg import Vectors\n",
        "key = Vectors.sparse(vocabSize, {cvModel.vocabulary.index(\"united\"): 1.0, cvModel.vocabulary.index(\"states\"): 1.0})"
      ],
      "metadata": {
        "id": "e8UMBKH0V7EA"
      },
      "execution_count": 20,
      "outputs": []
    },
    {
      "cell_type": "code",
      "source": [
        "# Define the number of neighbors\n",
        "k = 40\n",
        "# Search inside the LSH model that we already trained\n",
        "resultDF = LSHmodel.approxNearestNeighbors(vectorizedDF, key, k)\n",
        "resultDF.show()"
      ],
      "metadata": {
        "colab": {
          "base_uri": "https://localhost:8080/"
        },
        "id": "XVtpXSfVWFs4",
        "outputId": "e892252d-7392-4696-fa55-0d1ccb226437"
      },
      "execution_count": 25,
      "outputs": [
        {
          "output_type": "stream",
          "name": "stdout",
          "text": [
            "+--------------------+------+---+------+---+------+--------------------+----------+--------------------+--------------------+--------------------+------------------+\n",
            "|                text|advert|coi|fanpov| pr|resume|                 url|        id|               words|            features|          hashValues|           distCol|\n",
            "+--------------------+------+---+------+---+------+--------------------+----------+--------------------+--------------------+--------------------+------------------+\n",
            "|Phyllis C. Borzi ...|     0|  0|     0|  0|     1|https://en.wikipe...|      2593|[phyllis, c., bor...|(1000,[0,2,3,7,8,...|[[4.64411439E8], ...|               0.8|\n",
            "|Metech Recycling ...|     1|  0|     0|  0|     0|https://en.wikipe...|8589935638|[metech, recyclin...|(1000,[0,1,2,3,5,...|[[2.65210448E8], ...|0.8823529411764706|\n",
            "|Calvary Christian...|     1|  0|     0|  0|     0|https://en.wikipe...|      3149|[calvary, christi...|(1000,[0,3,5,6,35...|[[1.80151374E8], ...|               0.9|\n",
            "|Marine Corps Inst...|     1|  0|     0|  0|     0|https://en.wikipe...|8589935096|[marine, corps, i...|(1000,[0,1,2,3,4,...|[[6.8583438E7], [...|0.9090909090909091|\n",
            "|Redrock Broadcast...|     1|  0|     0|  0|     0|https://en.wikipe...|8589939640|[redrock, broadca...|(1000,[0,3,5,6,41...|[[4.24648146E8], ...|0.9090909090909091|\n",
            "|Blythe is an Engl...|     0|  0|     1|  0|     0|https://en.wikipe...|      2454|[blythe, is, an, ...|(1000,[0,1,2,3,6,...|[[1.0577275E8], [...|0.9130434782608696|\n",
            "|Jason Fairbourne ...|     0|  0|     0|  1|     0|https://en.wikipe...|      6688|[jason, fairbourn...|(1000,[0,1,2,3,5,...|[[8.1837869E7], [...|              0.92|\n",
            "|The EcoBroker des...|     1|  0|     0|  0|     0|https://en.wikipe...|      5974|[the, ecobroker, ...|(1000,[0,1,2,3,5,...|[[3.6542088E7], [...|0.9259259259259259|\n",
            "|This is a list of...|     0|  0|     1|  0|     0|https://en.wikipe...|      1922|[this, is, a, lis...|(1000,[0,1,2,3,5,...|[[1.10920712E8], ...|0.9285714285714286|\n",
            "|TIMGlobal Media, ...|     1|  0|     0|  0|     0|https://en.wikipe...|8589943474|[timglobal, media...|(1000,[0,1,2,3,5,...|[[5.7902988E7], [...|0.9310344827586207|\n",
            "|The Il Bello is a...|     1|  0|     0|  0|     0|https://en.wikipe...|      7115|[the, il, bello, ...|(1000,[0,1,2,3,5,...|[[2.8435619E7], [...|0.9333333333333333|\n",
            "|Planmed Oy, estab...|     1|  0|     0|  0|     0|https://en.wikipe...|8589938634|[planmed, oy,, es...|(1000,[0,1,2,3,4,...|[[3.6542088E7], [...|0.9333333333333333|\n",
            "|Investment Diamon...|     1|  0|     0|  0|     0|https://en.wikipe...|     10045|[investment, diam...|(1000,[0,1,2,4,5,...|[[3.6542088E7], [...| 0.935483870967742|\n",
            "|Groupe Dynamite i...|     1|  0|     0|  0|     0|https://en.wikipe...|      8307|[groupe, dynamite...|(1000,[0,1,2,3,4,...|[[3.6542088E7], [...|            0.9375|\n",
            "|The Public Media ...|     1|  0|     0|  0|     0|https://en.wikipe...|8589939105|[the, public, med...|(1000,[0,1,4,5,6,...|[[2.0713676E7], [...|            0.9375|\n",
            "|The Academy of Me...|     0|  0|     0|  1|     0|https://en.wikipe...|       155|[the, academy, of...|(1000,[0,1,2,3,4,...|[[5.7902988E7], [...|0.9393939393939394|\n",
            "|ACD Systems is an...|     1|  0|     0|  0|     0|https://en.wikipe...|       173|[acd, systems, is...|(1000,[0,1,3,6,7,...|[[5.7902988E7], [...|0.9393939393939394|\n",
            "|The American Soci...|     1|  1|     0|  0|     0|https://en.wikipe...|       809|[the, american, s...|(1000,[0,1,2,3,6,...|[[4.4648557E7], [...|0.9393939393939394|\n",
            "|Xpress Movers is ...|     1|  1|     0|  0|     0|https://en.wikipe...|8589945707|[xpress, movers, ...|(1000,[0,1,2,3,4,...|[[4.4264031E7], [...|0.9393939393939394|\n",
            "|Elizabeth Arnone ...|     0|  0|     0|  0|     1|https://en.wikipe...|      1168|[elizabeth, arnon...|(1000,[0,1,2,3,5,...|[[4.4648557E7], [...|0.9411764705882353|\n",
            "+--------------------+------+---+------+---+------+--------------------+----------+--------------------+--------------------+--------------------+------------------+\n",
            "only showing top 20 rows\n",
            "\n"
          ]
        }
      ]
    },
    {
      "cell_type": "code",
      "source": [
        "# Save the result into CSV\n",
        "import pandas as pd\n",
        "data = resultDF.toPandas()\n",
        "data.to_csv(\"result.csv\")"
      ],
      "metadata": {
        "id": "oBsiNvLxWVJQ"
      },
      "execution_count": 23,
      "outputs": []
    },
    {
      "cell_type": "markdown",
      "source": [
        "\n",
        "## Check the Result"
      ],
      "metadata": {
        "id": "gfK4uhI5XDt2"
      }
    },
    {
      "cell_type": "code",
      "source": [
        "import pandas as pd\n",
        "\n",
        "df = pd.read_csv('result.csv')\n",
        "df.head(10)"
      ],
      "metadata": {
        "colab": {
          "base_uri": "https://localhost:8080/",
          "height": 982
        },
        "id": "CW1LJhH6XGPu",
        "outputId": "a53d7eb1-c614-4f31-f710-e0d5602bea51"
      },
      "execution_count": 27,
      "outputs": [
        {
          "output_type": "execute_result",
          "data": {
            "text/plain": [
              "   Unnamed: 0                                               text  advert  coi  \\\n",
              "0           0  Phyllis C. Borzi was the Obama administration'...       0    0   \n",
              "1           1  Metech Recycling is a United States based elec...       1    0   \n",
              "2           2  Calvary Christian High School is a private, co...       1    0   \n",
              "3           3  Redrock Broadcasting is a media company headqu...       1    0   \n",
              "4           4  Marine Corps Installations West MCI WEST is th...       1    0   \n",
              "5           5  Blythe is an English surname. As of 2014, 58.1...       0    0   \n",
              "6           6  Jason Fairbourne is a United States business c...       0    0   \n",
              "7           7  The EcoBroker designation is an environmental ...       1    0   \n",
              "8           8  This is a list of television programmes curren...       0    0   \n",
              "9           9  TIMGlobal Media, formerly Thomas Industrial Me...       1    0   \n",
              "\n",
              "   fanpov  pr  resume                                                url  \\\n",
              "0       0   0       1      https://en.wikipedia.org/wiki/Phyllis%20Borzi   \n",
              "1       0   0       0  https://en.wikipedia.org/wiki/Metech%20Incorpo...   \n",
              "2       0   0       0  https://en.wikipedia.org/wiki/Calvary%20Christ...   \n",
              "3       0   0       0  https://en.wikipedia.org/wiki/Redrock%20Broadc...   \n",
              "4       0   0       0  https://en.wikipedia.org/wiki/Marine%20Corps%2...   \n",
              "5       1   0       0  https://en.wikipedia.org/wiki/Blythe%20%28surn...   \n",
              "6       0   1       0   https://en.wikipedia.org/wiki/Jason%20Fairbourne   \n",
              "7       0   0       0            https://en.wikipedia.org/wiki/EcoBroker   \n",
              "8       1   0       0  https://en.wikipedia.org/wiki/List%20of%20BBC%...   \n",
              "9       0   0       0    https://en.wikipedia.org/wiki/TIMGlobal%20Media   \n",
              "\n",
              "           id                                              words  \\\n",
              "0        2593  ['phyllis', 'c.', 'borzi', 'was', 'the', 'obam...   \n",
              "1  8589935638  ['metech', 'recycling', 'is', 'a', 'united', '...   \n",
              "2        3149  ['calvary', 'christian', 'high', 'school', 'is...   \n",
              "3  8589939640  ['redrock', 'broadcasting', 'is', 'a', 'media'...   \n",
              "4  8589935096  ['marine', 'corps', 'installations', 'west', '...   \n",
              "5        2454  ['blythe', 'is', 'an', 'english', 'surname.', ...   \n",
              "6        6688  ['jason', 'fairbourne', 'is', 'a', 'united', '...   \n",
              "7        5974  ['the', 'ecobroker', 'designation', 'is', 'an'...   \n",
              "8        1922  ['this', 'is', 'a', 'list', 'of', 'television'...   \n",
              "9  8589943474  ['timglobal', 'media,', 'formerly', 'thomas', ...   \n",
              "\n",
              "                                            features  \\\n",
              "0  (1000,[0,2,3,7,8,92,194,198,515,593],[4.0,3.0,...   \n",
              "1  (1000,[0,1,2,3,5,6,11,15,16,41,55,59,92,116,19...   \n",
              "2  (1000,[0,3,5,6,35,73,89,92,707],[1.0,2.0,1.0,1...   \n",
              "3  (1000,[0,3,5,6,41,92,167,309,322,707],[2.0,2.0...   \n",
              "4  (1000,[0,1,2,3,4,6,10,11,58,92,129,198,211,238...   \n",
              "5  (1000,[0,1,2,3,6,8,9,16,25,27,29,34,38,66,92,1...   \n",
              "6  (1000,[0,1,2,3,5,6,7,9,12,14,16,17,35,67,92,10...   \n",
              "7  (1000,[0,1,2,3,5,6,7,12,16,50,92,93,107,111,13...   \n",
              "8  (1000,[0,1,2,3,5,6,11,28,92,262,359,678,863],[...   \n",
              "9  (1000,[0,1,2,3,5,6,8,19,24,25,27,30,41,82,92,9...   \n",
              "\n",
              "                                          hashValues   distCol  \n",
              "0  [DenseVector([464411439.0]), DenseVector([2337...  0.800000  \n",
              "1  [DenseVector([265210448.0]), DenseVector([1354...  0.882353  \n",
              "2  [DenseVector([180151374.0]), DenseVector([1479...  0.900000  \n",
              "3  [DenseVector([424648146.0]), DenseVector([1479...  0.909091  \n",
              "4  [DenseVector([68583438.0]), DenseVector([23377...  0.909091  \n",
              "5  [DenseVector([105772750.0]), DenseVector([1102...  0.913043  \n",
              "6  [DenseVector([81837869.0]), DenseVector([10340...  0.920000  \n",
              "7  [DenseVector([36542088.0]), DenseVector([47347...  0.925926  \n",
              "8  [DenseVector([110920712.0]), DenseVector([1479...  0.928571  \n",
              "9  [DenseVector([57902988.0]), DenseVector([59927...  0.931034  "
            ],
            "text/html": [
              "\n",
              "  <div id=\"df-b5c6a5ea-177b-4305-9eaf-feb6463b93aa\">\n",
              "    <div class=\"colab-df-container\">\n",
              "      <div>\n",
              "<style scoped>\n",
              "    .dataframe tbody tr th:only-of-type {\n",
              "        vertical-align: middle;\n",
              "    }\n",
              "\n",
              "    .dataframe tbody tr th {\n",
              "        vertical-align: top;\n",
              "    }\n",
              "\n",
              "    .dataframe thead th {\n",
              "        text-align: right;\n",
              "    }\n",
              "</style>\n",
              "<table border=\"1\" class=\"dataframe\">\n",
              "  <thead>\n",
              "    <tr style=\"text-align: right;\">\n",
              "      <th></th>\n",
              "      <th>Unnamed: 0</th>\n",
              "      <th>text</th>\n",
              "      <th>advert</th>\n",
              "      <th>coi</th>\n",
              "      <th>fanpov</th>\n",
              "      <th>pr</th>\n",
              "      <th>resume</th>\n",
              "      <th>url</th>\n",
              "      <th>id</th>\n",
              "      <th>words</th>\n",
              "      <th>features</th>\n",
              "      <th>hashValues</th>\n",
              "      <th>distCol</th>\n",
              "    </tr>\n",
              "  </thead>\n",
              "  <tbody>\n",
              "    <tr>\n",
              "      <th>0</th>\n",
              "      <td>0</td>\n",
              "      <td>Phyllis C. Borzi was the Obama administration'...</td>\n",
              "      <td>0</td>\n",
              "      <td>0</td>\n",
              "      <td>0</td>\n",
              "      <td>0</td>\n",
              "      <td>1</td>\n",
              "      <td>https://en.wikipedia.org/wiki/Phyllis%20Borzi</td>\n",
              "      <td>2593</td>\n",
              "      <td>['phyllis', 'c.', 'borzi', 'was', 'the', 'obam...</td>\n",
              "      <td>(1000,[0,2,3,7,8,92,194,198,515,593],[4.0,3.0,...</td>\n",
              "      <td>[DenseVector([464411439.0]), DenseVector([2337...</td>\n",
              "      <td>0.800000</td>\n",
              "    </tr>\n",
              "    <tr>\n",
              "      <th>1</th>\n",
              "      <td>1</td>\n",
              "      <td>Metech Recycling is a United States based elec...</td>\n",
              "      <td>1</td>\n",
              "      <td>0</td>\n",
              "      <td>0</td>\n",
              "      <td>0</td>\n",
              "      <td>0</td>\n",
              "      <td>https://en.wikipedia.org/wiki/Metech%20Incorpo...</td>\n",
              "      <td>8589935638</td>\n",
              "      <td>['metech', 'recycling', 'is', 'a', 'united', '...</td>\n",
              "      <td>(1000,[0,1,2,3,5,6,11,15,16,41,55,59,92,116,19...</td>\n",
              "      <td>[DenseVector([265210448.0]), DenseVector([1354...</td>\n",
              "      <td>0.882353</td>\n",
              "    </tr>\n",
              "    <tr>\n",
              "      <th>2</th>\n",
              "      <td>2</td>\n",
              "      <td>Calvary Christian High School is a private, co...</td>\n",
              "      <td>1</td>\n",
              "      <td>0</td>\n",
              "      <td>0</td>\n",
              "      <td>0</td>\n",
              "      <td>0</td>\n",
              "      <td>https://en.wikipedia.org/wiki/Calvary%20Christ...</td>\n",
              "      <td>3149</td>\n",
              "      <td>['calvary', 'christian', 'high', 'school', 'is...</td>\n",
              "      <td>(1000,[0,3,5,6,35,73,89,92,707],[1.0,2.0,1.0,1...</td>\n",
              "      <td>[DenseVector([180151374.0]), DenseVector([1479...</td>\n",
              "      <td>0.900000</td>\n",
              "    </tr>\n",
              "    <tr>\n",
              "      <th>3</th>\n",
              "      <td>3</td>\n",
              "      <td>Redrock Broadcasting is a media company headqu...</td>\n",
              "      <td>1</td>\n",
              "      <td>0</td>\n",
              "      <td>0</td>\n",
              "      <td>0</td>\n",
              "      <td>0</td>\n",
              "      <td>https://en.wikipedia.org/wiki/Redrock%20Broadc...</td>\n",
              "      <td>8589939640</td>\n",
              "      <td>['redrock', 'broadcasting', 'is', 'a', 'media'...</td>\n",
              "      <td>(1000,[0,3,5,6,41,92,167,309,322,707],[2.0,2.0...</td>\n",
              "      <td>[DenseVector([424648146.0]), DenseVector([1479...</td>\n",
              "      <td>0.909091</td>\n",
              "    </tr>\n",
              "    <tr>\n",
              "      <th>4</th>\n",
              "      <td>4</td>\n",
              "      <td>Marine Corps Installations West MCI WEST is th...</td>\n",
              "      <td>1</td>\n",
              "      <td>0</td>\n",
              "      <td>0</td>\n",
              "      <td>0</td>\n",
              "      <td>0</td>\n",
              "      <td>https://en.wikipedia.org/wiki/Marine%20Corps%2...</td>\n",
              "      <td>8589935096</td>\n",
              "      <td>['marine', 'corps', 'installations', 'west', '...</td>\n",
              "      <td>(1000,[0,1,2,3,4,6,10,11,58,92,129,198,211,238...</td>\n",
              "      <td>[DenseVector([68583438.0]), DenseVector([23377...</td>\n",
              "      <td>0.909091</td>\n",
              "    </tr>\n",
              "    <tr>\n",
              "      <th>5</th>\n",
              "      <td>5</td>\n",
              "      <td>Blythe is an English surname. As of 2014, 58.1...</td>\n",
              "      <td>0</td>\n",
              "      <td>0</td>\n",
              "      <td>1</td>\n",
              "      <td>0</td>\n",
              "      <td>0</td>\n",
              "      <td>https://en.wikipedia.org/wiki/Blythe%20%28surn...</td>\n",
              "      <td>2454</td>\n",
              "      <td>['blythe', 'is', 'an', 'english', 'surname.', ...</td>\n",
              "      <td>(1000,[0,1,2,3,6,8,9,16,25,27,29,34,38,66,92,1...</td>\n",
              "      <td>[DenseVector([105772750.0]), DenseVector([1102...</td>\n",
              "      <td>0.913043</td>\n",
              "    </tr>\n",
              "    <tr>\n",
              "      <th>6</th>\n",
              "      <td>6</td>\n",
              "      <td>Jason Fairbourne is a United States business c...</td>\n",
              "      <td>0</td>\n",
              "      <td>0</td>\n",
              "      <td>0</td>\n",
              "      <td>1</td>\n",
              "      <td>0</td>\n",
              "      <td>https://en.wikipedia.org/wiki/Jason%20Fairbourne</td>\n",
              "      <td>6688</td>\n",
              "      <td>['jason', 'fairbourne', 'is', 'a', 'united', '...</td>\n",
              "      <td>(1000,[0,1,2,3,5,6,7,9,12,14,16,17,35,67,92,10...</td>\n",
              "      <td>[DenseVector([81837869.0]), DenseVector([10340...</td>\n",
              "      <td>0.920000</td>\n",
              "    </tr>\n",
              "    <tr>\n",
              "      <th>7</th>\n",
              "      <td>7</td>\n",
              "      <td>The EcoBroker designation is an environmental ...</td>\n",
              "      <td>1</td>\n",
              "      <td>0</td>\n",
              "      <td>0</td>\n",
              "      <td>0</td>\n",
              "      <td>0</td>\n",
              "      <td>https://en.wikipedia.org/wiki/EcoBroker</td>\n",
              "      <td>5974</td>\n",
              "      <td>['the', 'ecobroker', 'designation', 'is', 'an'...</td>\n",
              "      <td>(1000,[0,1,2,3,5,6,7,12,16,50,92,93,107,111,13...</td>\n",
              "      <td>[DenseVector([36542088.0]), DenseVector([47347...</td>\n",
              "      <td>0.925926</td>\n",
              "    </tr>\n",
              "    <tr>\n",
              "      <th>8</th>\n",
              "      <td>8</td>\n",
              "      <td>This is a list of television programmes curren...</td>\n",
              "      <td>0</td>\n",
              "      <td>0</td>\n",
              "      <td>1</td>\n",
              "      <td>0</td>\n",
              "      <td>0</td>\n",
              "      <td>https://en.wikipedia.org/wiki/List%20of%20BBC%...</td>\n",
              "      <td>1922</td>\n",
              "      <td>['this', 'is', 'a', 'list', 'of', 'television'...</td>\n",
              "      <td>(1000,[0,1,2,3,5,6,11,28,92,262,359,678,863],[...</td>\n",
              "      <td>[DenseVector([110920712.0]), DenseVector([1479...</td>\n",
              "      <td>0.928571</td>\n",
              "    </tr>\n",
              "    <tr>\n",
              "      <th>9</th>\n",
              "      <td>9</td>\n",
              "      <td>TIMGlobal Media, formerly Thomas Industrial Me...</td>\n",
              "      <td>1</td>\n",
              "      <td>0</td>\n",
              "      <td>0</td>\n",
              "      <td>0</td>\n",
              "      <td>0</td>\n",
              "      <td>https://en.wikipedia.org/wiki/TIMGlobal%20Media</td>\n",
              "      <td>8589943474</td>\n",
              "      <td>['timglobal', 'media,', 'formerly', 'thomas', ...</td>\n",
              "      <td>(1000,[0,1,2,3,5,6,8,19,24,25,27,30,41,82,92,9...</td>\n",
              "      <td>[DenseVector([57902988.0]), DenseVector([59927...</td>\n",
              "      <td>0.931034</td>\n",
              "    </tr>\n",
              "  </tbody>\n",
              "</table>\n",
              "</div>\n",
              "      <button class=\"colab-df-convert\" onclick=\"convertToInteractive('df-b5c6a5ea-177b-4305-9eaf-feb6463b93aa')\"\n",
              "              title=\"Convert this dataframe to an interactive table.\"\n",
              "              style=\"display:none;\">\n",
              "        \n",
              "  <svg xmlns=\"http://www.w3.org/2000/svg\" height=\"24px\"viewBox=\"0 0 24 24\"\n",
              "       width=\"24px\">\n",
              "    <path d=\"M0 0h24v24H0V0z\" fill=\"none\"/>\n",
              "    <path d=\"M18.56 5.44l.94 2.06.94-2.06 2.06-.94-2.06-.94-.94-2.06-.94 2.06-2.06.94zm-11 1L8.5 8.5l.94-2.06 2.06-.94-2.06-.94L8.5 2.5l-.94 2.06-2.06.94zm10 10l.94 2.06.94-2.06 2.06-.94-2.06-.94-.94-2.06-.94 2.06-2.06.94z\"/><path d=\"M17.41 7.96l-1.37-1.37c-.4-.4-.92-.59-1.43-.59-.52 0-1.04.2-1.43.59L10.3 9.45l-7.72 7.72c-.78.78-.78 2.05 0 2.83L4 21.41c.39.39.9.59 1.41.59.51 0 1.02-.2 1.41-.59l7.78-7.78 2.81-2.81c.8-.78.8-2.07 0-2.86zM5.41 20L4 18.59l7.72-7.72 1.47 1.35L5.41 20z\"/>\n",
              "  </svg>\n",
              "      </button>\n",
              "      \n",
              "  <style>\n",
              "    .colab-df-container {\n",
              "      display:flex;\n",
              "      flex-wrap:wrap;\n",
              "      gap: 12px;\n",
              "    }\n",
              "\n",
              "    .colab-df-convert {\n",
              "      background-color: #E8F0FE;\n",
              "      border: none;\n",
              "      border-radius: 50%;\n",
              "      cursor: pointer;\n",
              "      display: none;\n",
              "      fill: #1967D2;\n",
              "      height: 32px;\n",
              "      padding: 0 0 0 0;\n",
              "      width: 32px;\n",
              "    }\n",
              "\n",
              "    .colab-df-convert:hover {\n",
              "      background-color: #E2EBFA;\n",
              "      box-shadow: 0px 1px 2px rgba(60, 64, 67, 0.3), 0px 1px 3px 1px rgba(60, 64, 67, 0.15);\n",
              "      fill: #174EA6;\n",
              "    }\n",
              "\n",
              "    [theme=dark] .colab-df-convert {\n",
              "      background-color: #3B4455;\n",
              "      fill: #D2E3FC;\n",
              "    }\n",
              "\n",
              "    [theme=dark] .colab-df-convert:hover {\n",
              "      background-color: #434B5C;\n",
              "      box-shadow: 0px 1px 3px 1px rgba(0, 0, 0, 0.15);\n",
              "      filter: drop-shadow(0px 1px 2px rgba(0, 0, 0, 0.3));\n",
              "      fill: #FFFFFF;\n",
              "    }\n",
              "  </style>\n",
              "\n",
              "      <script>\n",
              "        const buttonEl =\n",
              "          document.querySelector('#df-b5c6a5ea-177b-4305-9eaf-feb6463b93aa button.colab-df-convert');\n",
              "        buttonEl.style.display =\n",
              "          google.colab.kernel.accessAllowed ? 'block' : 'none';\n",
              "\n",
              "        async function convertToInteractive(key) {\n",
              "          const element = document.querySelector('#df-b5c6a5ea-177b-4305-9eaf-feb6463b93aa');\n",
              "          const dataTable =\n",
              "            await google.colab.kernel.invokeFunction('convertToInteractive',\n",
              "                                                     [key], {});\n",
              "          if (!dataTable) return;\n",
              "\n",
              "          const docLinkHtml = 'Like what you see? Visit the ' +\n",
              "            '<a target=\"_blank\" href=https://colab.research.google.com/notebooks/data_table.ipynb>data table notebook</a>'\n",
              "            + ' to learn more about interactive tables.';\n",
              "          element.innerHTML = '';\n",
              "          dataTable['output_type'] = 'display_data';\n",
              "          await google.colab.output.renderOutput(dataTable, element);\n",
              "          const docLink = document.createElement('div');\n",
              "          docLink.innerHTML = docLinkHtml;\n",
              "          element.appendChild(docLink);\n",
              "        }\n",
              "      </script>\n",
              "    </div>\n",
              "  </div>\n",
              "  "
            ]
          },
          "metadata": {},
          "execution_count": 27
        }
      ]
    }
  ]
}